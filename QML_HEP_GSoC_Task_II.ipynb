{
  "cells": [
    {
      "cell_type": "markdown",
      "metadata": {
        "id": "view-in-github",
        "colab_type": "text"
      },
      "source": [
        "<a href=\"https://colab.research.google.com/github/Baxi-codes/QMLHEP-tasks/blob/main/QML_HEP_GSoC_Task_II.ipynb\" target=\"_parent\"><img src=\"https://colab.research.google.com/assets/colab-badge.svg\" alt=\"Open In Colab\"/></a>"
      ]
    },
    {
      "cell_type": "markdown",
      "metadata": {
        "id": "3652f4d4"
      },
      "source": [
        "# QML-HEP GSoC 2023 Task-II  Classical Graph Neural Network\n",
        "\n",
        "This is the jupyter notebook containing task II for QMLHEP GSOC 2023"
      ],
      "id": "3652f4d4"
    },
    {
      "cell_type": "markdown",
      "source": [
        "## Task\n",
        "For Task II, you will use ParticleNet’s data for Quark/Gluon jet classification available here with its corresponding description. \n",
        "* Choose 2 Graph-based architectures of your choice to classify jets as being quarks or gluons. Provide a description on what considerations you have taken to project this point-cloud dataset to a set of interconnected nodes and edges. \n",
        "* Discuss the resulting performance of the 2 chosen architectures. "
      ],
      "metadata": {
        "id": "c0ke8yDZQ1w9"
      },
      "id": "c0ke8yDZQ1w9"
    },
    {
      "cell_type": "markdown",
      "source": [
        "## Dataset\n",
        "The dataset given for the task is Pythia8 Quark and Gluon Jets for Energy Flow[1][2].The dataset consists of two sets of quark and gluon jets generated using Pythia 8, a Monte Carlo event generator widely used in particle physics simulations.\n",
        "\n",
        "It contains 20 files, each in compressed NumPy format. Each file contains two arrays:\n",
        "\n",
        "* X: A (100000, M, 4) array, where M is the maximum multiplicity of the jets in that file. The array contains exactly 50,000 quark and 50,000 gluon jets, randomly sorted. Each particle within a jet is represented by its transverse momentum (pt), rapidity, azimuthal angle, and particle ID (pdgid). For jets with fewer than M particles, zero-particles have been padded to ensure a consistent shape.\n",
        "\n",
        "* y: A (100000,) array of labels for the jets. The labels indicate whether the jet is a gluon (0) or a quark (1).\n",
        "\n"
      ],
      "metadata": {
        "id": "XCei1n_YRDft"
      },
      "id": "XCei1n_YRDft"
    },
    {
      "cell_type": "code",
      "execution_count": null,
      "metadata": {
        "colab": {
          "base_uri": "https://localhost:8080/"
        },
        "id": "ovGY3BTDHwGf",
        "outputId": "14acdd7f-bb15-4363-dcd1-9a12b0436d31"
      },
      "outputs": [
        {
          "output_type": "stream",
          "name": "stdout",
          "text": [
            "--2023-03-27 17:50:12--  https://zenodo.org/record/3164691/files/QG_jets.npz\n",
            "Resolving zenodo.org (zenodo.org)... 188.185.124.72\n",
            "Connecting to zenodo.org (zenodo.org)|188.185.124.72|:443... connected.\n",
            "HTTP request sent, awaiting response... 200 OK\n",
            "Length: 106689379 (102M) [application/octet-stream]\n",
            "Saving to: ‘QG_jets.npz’\n",
            "\n",
            "QG_jets.npz         100%[===================>] 101.75M  3.63MB/s    in 43s     \n",
            "\n",
            "2023-03-27 17:50:58 (2.35 MB/s) - ‘QG_jets.npz’ saved [106689379/106689379]\n",
            "\n",
            "--2023-03-27 17:50:58--  https://raw.githubusercontent.com/hqucms/ParticleNet/master/tf-keras/tf_keras_model.py\n",
            "Resolving raw.githubusercontent.com (raw.githubusercontent.com)... 185.199.108.133, 185.199.109.133, 185.199.110.133, ...\n",
            "Connecting to raw.githubusercontent.com (raw.githubusercontent.com)|185.199.108.133|:443... connected.\n",
            "HTTP request sent, awaiting response... 200 OK\n",
            "Length: 7583 (7.4K) [text/plain]\n",
            "Saving to: ‘tf_keras_model.py’\n",
            "\n",
            "tf_keras_model.py   100%[===================>]   7.41K  --.-KB/s    in 0s      \n",
            "\n",
            "2023-03-27 17:50:58 (62.8 MB/s) - ‘tf_keras_model.py’ saved [7583/7583]\n",
            "\n"
          ]
        }
      ],
      "source": [
        "!wget https://zenodo.org/record/3164691/files/QG_jets.npz\n",
        "!wget https://raw.githubusercontent.com/hqucms/ParticleNet/master/tf-keras/tf_keras_model.py"
      ],
      "id": "ovGY3BTDHwGf"
    },
    {
      "cell_type": "code",
      "execution_count": null,
      "metadata": {
        "id": "y9xt921nJq8V"
      },
      "outputs": [],
      "source": [
        "import numpy as np\n",
        "import matplotlib.pyplot as plt\n",
        "import os\n",
        "from sklearn.utils import shuffle\n",
        "from sklearn.model_selection import train_test_split\n",
        "from tf_keras_model import get_particle_net_lite, get_particle_net\n",
        "from tensorflow import keras\n",
        "%matplotlib inline"
      ],
      "id": "y9xt921nJq8V"
    },
    {
      "cell_type": "code",
      "execution_count": null,
      "metadata": {
        "id": "EzfPMGNvJtPI"
      },
      "outputs": [],
      "source": [
        "with np.load('./QG_jets.npz') as data:\n",
        "  X = data['X']\n",
        "  y = data['y']"
      ],
      "id": "EzfPMGNvJtPI"
    },
    {
      "cell_type": "markdown",
      "source": [
        "## Projection of Data to graph\n",
        "Jets are commonly observed in proton-proton collisions at the LHC and can be described as a focused burst of particles. To analyze jet data, it can be represented as a particle cloud similar to how 3D shapes are represented as point clouds in computer vision. Due to the symmetrical arrangement of the particles in the cloud, it is a useful and promising way to represent jets.\n",
        "\n",
        "In this task, we use particle net's implementation of DGCNN to classify the quark/gluon jets. The implementation uses K Nearest neighbors(KNN) using the spatial coordinates of the particles in the pseudorapidity-azimuth space i.e. Pseudo-Rapidity, Azimuthal Angle, and Transverse Momentum as given in the dataset.\n",
        "Pseudorapidity-azimuth space is a mathematical space used to describe the distribution of particles produced in a high-energy particle collision. Pseudorapidity is a dimensionless quantity that measures the angle between the momentum vector of a particle and the beam axis, while azimuthal angle is the angle between the projection of the particle's momentum vector onto the transverse plane and a reference direction.\n"
      ],
      "metadata": {
        "id": "RoaV8hO5w5y4"
      },
      "id": "RoaV8hO5w5y4"
    },
    {
      "cell_type": "code",
      "source": [
        "from IPython.display import clear_output\n",
        "import os\n",
        "import torch\n",
        "os.environ['TORCH'] = torch.__version__\n",
        "!pip install -q torch-scatter -f https://data.pyg.org/whl/torch-${TORCH}.html\n",
        "!pip install -q torch-sparse -f https://data.pyg.org/whl/torch-${TORCH}.html\n",
        "!pip install -q torch-cluster -f https://data.pyg.org/whl/torch-${TORCH}.html\n",
        "!pip install -q git+https://github.com/pyg-team/pytorch_geometric.git\n",
        "clear_output()\n",
        "\n",
        "# Helper functions for visualization.\n",
        "%matplotlib inline\n",
        "import matplotlib.pyplot as plt\n",
        "from mpl_toolkits.mplot3d import Axes3D\n",
        "\n",
        "def visualize_mesh(pos, face):\n",
        "    fig = plt.figure()\n",
        "    ax = fig.gca(projection='3d')\n",
        "    ax.axes.xaxis.set_ticklabels([])\n",
        "    ax.axes.yaxis.set_ticklabels([])\n",
        "    ax.axes.zaxis.set_ticklabels([])\n",
        "    ax.plot_trisurf(pos[:, 0], pos[:, 1], pos[:, 2], triangles=data.face.t(), antialiased=False)\n",
        "    plt.show()\n",
        "\n",
        "\n",
        "def visualize_points(pos, edge_index=None, index=None):\n",
        "    fig = plt.figure(figsize=(4, 4))\n",
        "    if edge_index is not None:\n",
        "        for (src, dst) in edge_index.t().tolist():\n",
        "             src = pos[src].tolist()\n",
        "             dst = pos[dst].tolist()\n",
        "             plt.plot([src[0], dst[0]], [src[1], dst[1]], linewidth=1, color='black')\n",
        "    if index is None:\n",
        "        plt.scatter(pos[:, 0], pos[:, 1], s=50, zorder=1000)\n",
        "    else:\n",
        "       mask = torch.zeros(pos.size(0), dtype=torch.bool)\n",
        "       mask[index] = True\n",
        "       plt.scatter(pos[~mask, 0], pos[~mask, 1], s=50, color='lightgray', zorder=1000)\n",
        "       plt.scatter(pos[mask, 0], pos[mask, 1], s=50, zorder=1000)\n",
        "    plt.axis('off')\n",
        "    plt.show()\n"
      ],
      "metadata": {
        "id": "Tndx8MJqKiSB"
      },
      "id": "Tndx8MJqKiSB",
      "execution_count": null,
      "outputs": []
    },
    {
      "cell_type": "markdown",
      "source": [
        "The points in pseudorapidity-azimuth space in the first jet can be visualized as"
      ],
      "metadata": {
        "id": "KLGsVKOZNmsh"
      },
      "id": "KLGsVKOZNmsh"
    },
    {
      "cell_type": "code",
      "source": [
        "example=X[0,:,:3]\n",
        "visualize_points(example,None)"
      ],
      "metadata": {
        "colab": {
          "base_uri": "https://localhost:8080/",
          "height": 248
        },
        "id": "LsKmRiE3LgF0",
        "outputId": "fc0418b2-b1a4-4d31-a657-53f544ef8591"
      },
      "id": "LsKmRiE3LgF0",
      "execution_count": null,
      "outputs": [
        {
          "output_type": "display_data",
          "data": {
            "text/plain": [
              "<Figure size 288x288 with 1 Axes>"
            ],
            "image/png": "[encoded data removed]"
          },
          "metadata": {
            "needs_background": "light"
          }
        }
      ]
    },
    {
      "cell_type": "markdown",
      "source": [
        "After we apply KNN to the first jet, here's what the resulting graph looks like"
      ],
      "metadata": {
        "id": "s89hXbOYN4kA"
      },
      "id": "s89hXbOYN4kA"
    },
    {
      "cell_type": "code",
      "source": [
        "from torch_cluster import knn_graph\n",
        "\n",
        "example_G = knn_graph(torch.tensor(example), k=6)\n",
        "visualize_points(example, edge_index=example_G)"
      ],
      "metadata": {
        "colab": {
          "base_uri": "https://localhost:8080/",
          "height": 248
        },
        "id": "misEDzbaMwbq",
        "outputId": "64dab832-c950-4a4b-b153-93f3500a969c"
      },
      "id": "misEDzbaMwbq",
      "execution_count": null,
      "outputs": [
        {
          "output_type": "display_data",
          "data": {
            "text/plain": [
              "<Figure size 288x288 with 1 Axes>"
            ],
            "image/png": "[encoded data removed]"
          },
          "metadata": {
            "needs_background": "light"
          }
        }
      ]
    },
    {
      "cell_type": "markdown",
      "source": [
        "## Architecture used\n",
        "We use ParticleNet's Dynamic Graph Convolutional Neural Network(DGCNN) architecture[3][4]. \n",
        "\n",
        "ParticleNet is a neural network architecture designed to classify jets in particle physics experiments. The model represents a jet as an unordered set of its constituent particles, which is called a \"particle cloud\" representation. This representation is efficient in incorporating the raw information of the jet and also respects the permutation symmetry. The architecture of ParticleNet is based on the DGCNN, which is customized for jet tagging problems. ParticleNet achieves state-of-the-art performance on two representative jet tagging benchmarks and outperforms existing methods significantly."
      ],
      "metadata": {
        "id": "WXhrj8_2Vlgz"
      },
      "id": "WXhrj8_2Vlgz"
    },
    {
      "cell_type": "markdown",
      "source": [
        "### preprocessing the data"
      ],
      "metadata": {
        "id": "hGzWH4xsOHbY"
      },
      "id": "hGzWH4xsOHbY"
    },
    {
      "cell_type": "code",
      "execution_count": null,
      "metadata": {
        "id": "nGz6Xkaw35CN"
      },
      "outputs": [],
      "source": [
        "random_seed = 4056\n",
        "\n",
        "y = keras.utils.to_categorical(y)\n",
        "X, _, y, __ = train_test_split(X, y, test_size=0.6, random_state=random_seed)\n",
        "X_train, X_test, y_train, y_test = train_test_split(X, y, test_size=0.30, random_state=random_seed)\n",
        "X_test, X_val, y_test, y_val = train_test_split(X_test, y_test, test_size=0.5, random_state=random_seed)\n",
        "# mask for train set\n",
        "mask_train = np.sum(X_train, axis=2)\n",
        "mask_train = np.array(mask_train != 0, np.float32)\n",
        "mask_train = mask_train.reshape(X_train.shape[0], X_train.shape[1], 1)\n",
        "\n",
        "# mask for validation set\n",
        "mask_val = np.sum(X_val, axis=2)\n",
        "mask_val = np.array(mask_val != 0, np.float32)\n",
        "mask_val = mask_val.reshape(X_val.shape[0], X_val.shape[1], 1)\n",
        "\n",
        "# mask for test set\n",
        "mask_test = np.sum(X_test, axis=2)\n",
        "mask_test = np.array(mask_test != 0, np.float32)\n",
        "mask_test = mask_test.reshape(X_test.shape[0], X_test.shape[1], 1)\n",
        "\n",
        "train_dataset = {\n",
        "    'points': X_train[:, :, 1:3],\n",
        "    'features': X_train,\n",
        "    'mask': mask_train\n",
        "}\n",
        "\n",
        "test_dataset = {\n",
        "    'points': X_test[:, :, 1:3],\n",
        "    'features': X_test,\n",
        "    'mask': mask_test\n",
        "}\n",
        "\n",
        "val_dataset = {\n",
        "    'points': X_val[:, :, 1:3],\n",
        "    'features': X_val,\n",
        "    'mask': mask_val\n",
        "}\n",
        "shapes = {\n",
        "    'points': X_train[:, :, 1:3].shape[1:],\n",
        "    'features': X_train.shape[1:],\n",
        "    'mask': mask_train.shape[1:]\n",
        "}"
      ],
      "id": "nGz6Xkaw35CN"
    },
    {
      "cell_type": "markdown",
      "source": [
        "### Initializing and compiling the model"
      ],
      "metadata": {
        "id": "wV8NIN6VOQjH"
      },
      "id": "wV8NIN6VOQjH"
    },
    {
      "cell_type": "code",
      "execution_count": null,
      "metadata": {
        "id": "WQlxY5bfoHIp"
      },
      "outputs": [],
      "source": [
        "model = get_particle_net_lite(2, shapes)\n",
        "\n",
        "batch_size = 1024\n",
        "epochs = 40\n",
        "\n",
        "def lr_schedule(epoch):\n",
        "    lr = 1e-3\n",
        "    if epoch > 10:\n",
        "        lr *= 0.1\n",
        "    elif epoch > 20:\n",
        "        lr *= 0.01\n",
        "    return lr\n",
        "\n",
        "model.compile(loss='categorical_crossentropy',\n",
        "              optimizer=keras.optimizers.Adam(learning_rate=lr_schedule(0)),\n",
        "              metrics=['accuracy'])"
      ],
      "id": "WQlxY5bfoHIp"
    },
    {
      "cell_type": "markdown",
      "source": [
        "### Training the model"
      ],
      "metadata": {
        "id": "T8D2-XtHOWIi"
      },
      "id": "T8D2-XtHOWIi"
    },
    {
      "cell_type": "code",
      "execution_count": null,
      "metadata": {
        "colab": {
          "base_uri": "https://localhost:8080/"
        },
        "id": "-UDY-bwkpwrr",
        "outputId": "1918d27f-9e37-4149-f265-98d612e1c1ca"
      },
      "outputs": [
        {
          "output_type": "stream",
          "name": "stdout",
          "text": [
            "Epoch 1/40\n",
            "28/28 [==============================] - 305s 11s/step - loss: 0.5580 - accuracy: 0.7294 - val_loss: 0.7946 - val_accuracy: 0.5012 - lr: 0.0010\n",
            "Epoch 2/40\n",
            "28/28 [==============================] - 298s 11s/step - loss: 0.4930 - accuracy: 0.7694 - val_loss: 0.7162 - val_accuracy: 0.5047 - lr: 0.0010\n",
            "Epoch 3/40\n",
            "28/28 [==============================] - 308s 11s/step - loss: 0.4846 - accuracy: 0.7737 - val_loss: 0.6320 - val_accuracy: 0.5795 - lr: 0.0010\n",
            "Epoch 4/40\n",
            "28/28 [==============================] - 301s 11s/step - loss: 0.4812 - accuracy: 0.7753 - val_loss: 0.5835 - val_accuracy: 0.6663 - lr: 0.0010\n",
            "Epoch 5/40\n",
            "28/28 [==============================] - 313s 11s/step - loss: 0.4761 - accuracy: 0.7798 - val_loss: 0.5337 - val_accuracy: 0.7458 - lr: 0.0010\n",
            "Epoch 6/40\n",
            "28/28 [==============================] - 301s 11s/step - loss: 0.4747 - accuracy: 0.7786 - val_loss: 0.5272 - val_accuracy: 0.7460 - lr: 0.0010\n",
            "Epoch 7/40\n",
            "28/28 [==============================] - 309s 11s/step - loss: 0.4712 - accuracy: 0.7813 - val_loss: 0.5072 - val_accuracy: 0.7672 - lr: 0.0010\n",
            "Epoch 8/40\n",
            "28/28 [==============================] - 298s 11s/step - loss: 0.4687 - accuracy: 0.7834 - val_loss: 0.4923 - val_accuracy: 0.7807 - lr: 0.0010\n",
            "Epoch 9/40\n",
            "28/28 [==============================] - 314s 11s/step - loss: 0.4657 - accuracy: 0.7862 - val_loss: 0.4812 - val_accuracy: 0.7833 - lr: 0.0010\n",
            "Epoch 10/40\n",
            "28/28 [==============================] - 300s 11s/step - loss: 0.4653 - accuracy: 0.7855 - val_loss: 0.4752 - val_accuracy: 0.7832 - lr: 0.0010\n",
            "Epoch 11/40\n",
            "28/28 [==============================] - 314s 11s/step - loss: 0.4620 - accuracy: 0.7901 - val_loss: 0.4698 - val_accuracy: 0.7875 - lr: 0.0010\n",
            "Epoch 12/40\n",
            "28/28 [==============================] - 304s 11s/step - loss: 0.4565 - accuracy: 0.7921 - val_loss: 0.4663 - val_accuracy: 0.7905 - lr: 1.0000e-04\n",
            "Epoch 13/40\n",
            "28/28 [==============================] - 313s 11s/step - loss: 0.4555 - accuracy: 0.7927 - val_loss: 0.4654 - val_accuracy: 0.7900 - lr: 1.0000e-04\n",
            "Epoch 14/40\n",
            "28/28 [==============================] - 298s 11s/step - loss: 0.4559 - accuracy: 0.7929 - val_loss: 0.4647 - val_accuracy: 0.7897 - lr: 1.0000e-04\n",
            "Epoch 15/40\n",
            "28/28 [==============================] - 310s 11s/step - loss: 0.4549 - accuracy: 0.7932 - val_loss: 0.4633 - val_accuracy: 0.7903 - lr: 1.0000e-04\n",
            "Epoch 16/40\n",
            "28/28 [==============================] - 298s 11s/step - loss: 0.4549 - accuracy: 0.7940 - val_loss: 0.4611 - val_accuracy: 0.7912 - lr: 1.0000e-04\n",
            "Epoch 17/40\n",
            "28/28 [==============================] - 307s 11s/step - loss: 0.4541 - accuracy: 0.7947 - val_loss: 0.4607 - val_accuracy: 0.7902 - lr: 1.0000e-04\n",
            "Epoch 18/40\n",
            "28/28 [==============================] - 297s 11s/step - loss: 0.4537 - accuracy: 0.7941 - val_loss: 0.4596 - val_accuracy: 0.7898 - lr: 1.0000e-04\n",
            "Epoch 19/40\n",
            "28/28 [==============================] - 301s 11s/step - loss: 0.4528 - accuracy: 0.7955 - val_loss: 0.4595 - val_accuracy: 0.7937 - lr: 1.0000e-04\n",
            "Epoch 20/40\n",
            "28/28 [==============================] - 299s 11s/step - loss: 0.4526 - accuracy: 0.7940 - val_loss: 0.4585 - val_accuracy: 0.7917 - lr: 1.0000e-04\n",
            "Epoch 21/40\n",
            "28/28 [==============================] - 309s 11s/step - loss: 0.4526 - accuracy: 0.7940 - val_loss: 0.4585 - val_accuracy: 0.7913 - lr: 1.0000e-04\n",
            "Epoch 22/40\n",
            "28/28 [==============================] - 302s 11s/step - loss: 0.4524 - accuracy: 0.7947 - val_loss: 0.4581 - val_accuracy: 0.7898 - lr: 1.0000e-04\n",
            "Epoch 23/40\n",
            "28/28 [==============================] - 312s 11s/step - loss: 0.4511 - accuracy: 0.7953 - val_loss: 0.4579 - val_accuracy: 0.7937 - lr: 1.0000e-04\n",
            "Epoch 24/40\n",
            "28/28 [==============================] - 293s 10s/step - loss: 0.4516 - accuracy: 0.7958 - val_loss: 0.4584 - val_accuracy: 0.7925 - lr: 1.0000e-04\n",
            "Epoch 25/40\n",
            "28/28 [==============================] - 309s 11s/step - loss: 0.4512 - accuracy: 0.7957 - val_loss: 0.4579 - val_accuracy: 0.7943 - lr: 1.0000e-04\n",
            "Epoch 26/40\n",
            "28/28 [==============================] - 294s 11s/step - loss: 0.4511 - accuracy: 0.7960 - val_loss: 0.4574 - val_accuracy: 0.7937 - lr: 1.0000e-04\n",
            "Epoch 27/40\n",
            "28/28 [==============================] - 310s 11s/step - loss: 0.4500 - accuracy: 0.7970 - val_loss: 0.4574 - val_accuracy: 0.7930 - lr: 1.0000e-04\n",
            "Epoch 28/40\n",
            "28/28 [==============================] - 301s 11s/step - loss: 0.4499 - accuracy: 0.7961 - val_loss: 0.4577 - val_accuracy: 0.7910 - lr: 1.0000e-04\n",
            "Epoch 29/40\n",
            "28/28 [==============================] - 311s 11s/step - loss: 0.4496 - accuracy: 0.7956 - val_loss: 0.4565 - val_accuracy: 0.7913 - lr: 1.0000e-04\n",
            "Epoch 30/40\n",
            "28/28 [==============================] - 304s 11s/step - loss: 0.4497 - accuracy: 0.7966 - val_loss: 0.4566 - val_accuracy: 0.7952 - lr: 1.0000e-04\n",
            "Epoch 31/40\n",
            "28/28 [==============================] - 313s 11s/step - loss: 0.4492 - accuracy: 0.7968 - val_loss: 0.4562 - val_accuracy: 0.7928 - lr: 1.0000e-04\n",
            "Epoch 32/40\n",
            "28/28 [==============================] - 293s 10s/step - loss: 0.4489 - accuracy: 0.7972 - val_loss: 0.4567 - val_accuracy: 0.7927 - lr: 1.0000e-04\n",
            "Epoch 33/40\n",
            "28/28 [==============================] - 304s 11s/step - loss: 0.4481 - accuracy: 0.7970 - val_loss: 0.4568 - val_accuracy: 0.7935 - lr: 1.0000e-04\n",
            "Epoch 34/40\n",
            "28/28 [==============================] - 302s 11s/step - loss: 0.4475 - accuracy: 0.7978 - val_loss: 0.4549 - val_accuracy: 0.7932 - lr: 1.0000e-04\n",
            "Epoch 35/40\n",
            "28/28 [==============================] - 314s 11s/step - loss: 0.4474 - accuracy: 0.7975 - val_loss: 0.4555 - val_accuracy: 0.7935 - lr: 1.0000e-04\n",
            "Epoch 36/40\n",
            "28/28 [==============================] - 303s 11s/step - loss: 0.4475 - accuracy: 0.7983 - val_loss: 0.4547 - val_accuracy: 0.7927 - lr: 1.0000e-04\n",
            "Epoch 37/40\n",
            "28/28 [==============================] - 304s 11s/step - loss: 0.4465 - accuracy: 0.7973 - val_loss: 0.4544 - val_accuracy: 0.7935 - lr: 1.0000e-04\n",
            "Epoch 38/40\n",
            "28/28 [==============================] - 300s 11s/step - loss: 0.4472 - accuracy: 0.7981 - val_loss: 0.4545 - val_accuracy: 0.7928 - lr: 1.0000e-04\n",
            "Epoch 39/40\n",
            "28/28 [==============================] - 310s 11s/step - loss: 0.4467 - accuracy: 0.7983 - val_loss: 0.4543 - val_accuracy: 0.7943 - lr: 1.0000e-04\n",
            "Epoch 40/40\n",
            "28/28 [==============================] - 300s 11s/step - loss: 0.4466 - accuracy: 0.7976 - val_loss: 0.4542 - val_accuracy: 0.7947 - lr: 1.0000e-04\n"
          ]
        }
      ],
      "source": [
        "lr_scheduler = keras.callbacks.LearningRateScheduler(lr_schedule)\n",
        "particle_net_lite_history = model.fit(train_dataset, y_train, batch_size=batch_size, epochs=epochs, validation_data=(val_dataset, y_val), shuffle=True, callbacks=[lr_scheduler])"
      ],
      "id": "-UDY-bwkpwrr"
    },
    {
      "cell_type": "code",
      "execution_count": null,
      "metadata": {
        "id": "6yLEtTqyA1uX"
      },
      "outputs": [],
      "source": [
        "import pandas as pd\n",
        "\n",
        "# convert the particle_net_lite_history.history dict to a pandas DataFrame:     \n",
        "hist_df = pd.DataFrame(particle_net_lite_history.history) \n",
        "\n",
        "# save to csv: \n",
        "hist_csv_file = 'history.csv'\n",
        "with open(hist_csv_file, mode='w') as f:\n",
        "    hist_df.to_csv(f)"
      ],
      "id": "6yLEtTqyA1uX"
    },
    {
      "cell_type": "markdown",
      "source": [
        "### testing and evaluation"
      ],
      "metadata": {
        "id": "isRtrsOAOk-y"
      },
      "id": "isRtrsOAOk-y"
    },
    {
      "cell_type": "code",
      "source": [
        "plt.plot(np.linspace(1,epochs,epochs, dtype=int), particle_net_lite_history.history['accuracy'], color='green', label='Training Accuracy')\n",
        "plt.plot(np.linspace(1,epochs,epochs, dtype=int), particle_net_lite_history.history['val_accuracy'], color='red', label='Validation Accuracy')\n",
        "plt.xlabel(\"Epochs\")\n",
        "plt.ylabel(\"Accuracy\")\n",
        "plt.title(\"Accuracy of Static Graph CNN Model\")\n",
        "plt.legend()\n",
        "plt.show()"
      ],
      "metadata": {
        "colab": {
          "base_uri": "https://localhost:8080/",
          "height": 295
        },
        "id": "Nipo08suwK8N",
        "outputId": "2b35c66a-c419-413f-e883-b0ff3a7f7f2e"
      },
      "id": "Nipo08suwK8N",
      "execution_count": null,
      "outputs": [
        {
          "output_type": "display_data",
          "data": {
            "text/plain": [
              "<Figure size 432x288 with 1 Axes>"
            ],
            "image/png": "[encoded data removed]"
          },
          "metadata": {
            "needs_background": "light"
          }
        }
      ]
    },
    {
      "cell_type": "markdown",
      "source": [
        "###"
      ],
      "metadata": {
        "id": "Y4C9nXhIOpez"
      },
      "id": "Y4C9nXhIOpez"
    },
    {
      "cell_type": "code",
      "source": [
        "loss, acc = model.evaluate(test_dataset, y_test)\n",
        "print(\"Evaluation Metric of Dynamic Graph CNN Model on Test Dataset\")\n",
        "print(\"Loss:\", loss)\n",
        "print(\"Accuracy:\", acc)"
      ],
      "metadata": {
        "colab": {
          "base_uri": "https://localhost:8080/"
        },
        "id": "OXvdeb2txEBM",
        "outputId": "f0e57f45-de9c-4e85-b557-ddea54bd95a5"
      },
      "id": "OXvdeb2txEBM",
      "execution_count": null,
      "outputs": [
        {
          "output_type": "stream",
          "name": "stdout",
          "text": [
            "188/188 [==============================] - 11s 57ms/step - loss: 0.4623 - accuracy: 0.7880\n",
            "Evaluation Metric of Dynamic Graph CNN Model on Test Dataset\n",
            "Loss: 0.4623206853866577\n",
            "Accuracy: 0.7879999876022339\n"
          ]
        }
      ]
    },
    {
      "cell_type": "markdown",
      "source": [
        "## Conclusion\n",
        "I used ParticleNet lite architecture to classify Quark/Gluon jets in the ParticleNet dataset. The DGCNN approach used by particlenet was able to effectively classify the jets with high accuracy. This demonstrates the effectiveness of graph-based architectures for processing complex data such as particle physics data."
      ],
      "metadata": {
        "id": "MsrmgNte0Dcu"
      },
      "id": "MsrmgNte0Dcu"
    },
    {
      "cell_type": "markdown",
      "source": [
        "## References\n",
        "\n",
        "\n",
        "[1] [Komiske, Patrick;  Metodiev, Eric;  Thaler, Jesse; Pythia8 Quark and Gluon Jets for Energy Flow ](https://zenodo.org/record/3164691#.ZCHeENJBzZ4) \\\\\n",
        "[2] Patrick T. Komiske, Eric M. Metodiev, Jesse Thaler: “Energy Flow Networks: Deep Sets for Particle Jets”, 2018, JHEP 01 (2019) 121; <a href='http://arxiv.org/abs/1810.05165'>arXiv:1810.05165</a>. DOI: <a href='https://dx.doi.org/10.1007/JHEP01(2019)121'>10.1007/JHEP01(2019)121</a>. \\\\\n",
        "[3] https://github.com/hqucms/ParticleNet \\\\\n",
        "[4] [Qu, H., & Gouskos, L. (2020). Jet tagging via particle clouds. Phys. Rev. D, 101, 056019](https://journals.aps.org/prd/abstract/10.1103/PhysRevD.101.056019).\n"
      ],
      "metadata": {
        "id": "RfY-Zjz3R5Gx"
      },
      "id": "RfY-Zjz3R5Gx"
    }
  ],
  "metadata": {
    "colab": {
      "provenance": [],
      "include_colab_link": true
    },
    "kernelspec": {
      "display_name": "Python 3 (ipykernel)",
      "language": "python",
      "name": "python3"
    },
    "language_info": {
      "codemirror_mode": {
        "name": "ipython",
        "version": 3
      },
      "file_extension": ".py",
      "mimetype": "text/x-python",
      "name": "python",
      "nbconvert_exporter": "python",
      "pygments_lexer": "ipython3",
      "version": "3.10.6"
    }
  },
  "nbformat": 4,
  "nbformat_minor": 5
}