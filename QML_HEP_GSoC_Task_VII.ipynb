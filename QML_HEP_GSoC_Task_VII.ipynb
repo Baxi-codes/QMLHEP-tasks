{
  "cells": [
    {
      "cell_type": "markdown",
      "metadata": {
        "id": "view-in-github",
        "colab_type": "text"
      },
      "source": [
        "<a href=\"https://colab.research.google.com/github/Baxi-codes/QMLHEP-tasks/blob/main/QML_HEP_GSoC_Task_VII.ipynb\" target=\"_parent\"><img src=\"https://colab.research.google.com/assets/colab-badge.svg\" alt=\"Open In Colab\"/></a>"
      ]
    },
    {
      "cell_type": "markdown",
      "id": "8fbcc182",
      "metadata": {
        "id": "8fbcc182"
      },
      "source": [
        "# QML-HEP GSoC 2023 Task-III Open Task\n",
        "\n",
        "This is the jupyter notebook containing task I for QMLHEP GSOC 2023.\n",
        "\n",
        "### Task\n",
        "In this task you are supposed to get started with equivariant quantum neural networks by implementing a $Z_2 × Z_2$ equivariant quantum neural network. $Z_2$ is a symmetry group an as an example we will generate a simple classical dataset which is respects the $Z_2 \\times Z_2$ symmetry.\n",
        "This example is explained in the paper https://arxiv.org/abs/2205.06217 and additional background can be found in https://arxiv.org/abs/2210.08566. \n",
        "\n",
        "Generate a classification dataset with two classes and two features $x_1$ and $x_2$ which respects the $Z_2 \\times Z_2$ symmetry (this corresponds to mirroring along $y=x$). An example can be found in the first reference paper.\n",
        "\n",
        "Train a QNN to solve the classification problem. \\\\\n",
        "Train an $Z_2 \\times Z_2$ equivariant QNN to solve the classification problem and compare the results.\n"
      ]
    },
    {
      "cell_type": "markdown",
      "source": [
        "## Generating Dataset\n",
        "To generate the dataset that respects $Z_2 \\times Z_2$  symmetry, we generate random points between the region $(-1,-1), (-1,1), (1,1), (1,-1).$ \\\\\n",
        "Then we check the poistion of each point with respect to the hyperbola\n",
        "$$xy=c^2$$ \n",
        "the value of $c$ for this example is chosen as 0.25.\n",
        "If the point lies inside the hyperbola, we label it $0$, else we label it $1$.\n",
        "\n",
        "![Image](https://i.imgur.com/ctabLdv.png)"
      ],
      "metadata": {
        "id": "3Q31EYrim2Cf"
      },
      "id": "3Q31EYrim2Cf"
    },
    {
      "cell_type": "code",
      "execution_count": null,
      "id": "48fdf22f",
      "metadata": {
        "scrolled": false,
        "id": "48fdf22f"
      },
      "outputs": [],
      "source": [
        "import matplotlib.pyplot as plt\n",
        "import numpy as np\n",
        "\n",
        "def hyperbola(x1, x2):\n",
        "    # rectangular hyperbola equation\n",
        "    return 1 if (x1 * x2 - 0.25) >= 0 else 0\n",
        "\n",
        "# set random seed for reproducibility\n",
        "np.random.seed(1)\n",
        "\n",
        "# generate dataset\n",
        "X = []\n",
        "y = []\n",
        "for i in range(500):\n",
        "    x1 = np.random.uniform(low=-1.0, high=1.0)\n",
        "    x2 = np.random.uniform(low=-1.0, high=1.0)\n",
        "    y1 = hyperbola(x1, x2)\n",
        "    X.append([x1, x2])\n",
        "    y.append(y1)\n",
        "\n",
        "X=np.array(X)\n",
        "y=np.array(y)"
      ]
    },
    {
      "cell_type": "markdown",
      "source": [
        "## Selection of feaure map and ansatz\n",
        "\n",
        "### Feature Map\n",
        "We encode data by rotating the $|0\\rangle$ by an angle of $x\\pi$ where $x$ is value of the feature. Since the value of both feature is between $[-1,1]$, it will lead to rotation somewhere between $[-\\pi,\\pi]$.\n",
        "\n",
        "This is done by parametrized X rotation gates:\n",
        "\n",
        "```\n",
        "     ┌──────────┐ ░ \n",
        "q_0: ┤ Rx(π*x0) ├─░─\n",
        "     ├──────────┤ ░ \n",
        "q_1: ┤ Rx(π*x1) ├─░─\n",
        "     └──────────┘ ░ \n",
        "```\n",
        "\n",
        "### Ansatz\n",
        "For the sake of comparison, we train the model on two different ansatz, one with the standard gateset and one with the equivariant gateset.\n",
        "\n",
        "Refering to [1], the standard gateset includes:\n",
        "$$\\mathcal{G}=\\{X_1,X_2,Y_1,Y_2,Z_1,Z_2\\}$$\n",
        "For each layer, we apply X and Z rotations on both qubits with diferent weights and a controlled X gate to entangle them. We take two layers in this example.\n",
        "\n",
        "#### ansatz without symmetrization:\n",
        "```\n",
        "     ┌──────────┐┌──────────┐     ┌──────────┐┌──────────┐      ░ \n",
        "q_0: ┤ Rx(π*w0) ├┤ Rz(π*w2) ├──■──┤ Rx(π*w4) ├┤ Rz(π*w6) ├──■───░─\n",
        "     ├──────────┤├──────────┤┌─┴─┐├──────────┤├──────────┤┌─┴─┐ ░ \n",
        "q_1: ┤ Rx(π*w1) ├┤ Rz(π*w3) ├┤ X ├┤ Rx(π*w5) ├┤ Rz(π*w7) ├┤ X ├─░─\n",
        "     └──────────┘└──────────┘└───┘└──────────┘└──────────┘└───┘ ░ \n",
        "```\n",
        "The equivariant gateset for $Z_2 \\times Z_2$ symmetry include\n",
        "$$\\mathcal{G}=\\left\\{\\frac{X_1+X_2}{2},Z_1,Z_2\\right\\}$$\n",
        "i.e. both qubits can only be rotated by x together with same angle. This reduces number of parameters.\n",
        "#### equvariant ansatz\n",
        "```\n",
        "     ┌──────────┐┌──────────┐     ┌──────────┐┌──────────┐      ░ \n",
        "q_0: ┤ Rx(π*w0) ├┤ Rz(π*w1) ├──■──┤ Rx(π*w3) ├┤ Rz(π*w4) ├──■───░─\n",
        "     ├──────────┤├──────────┤┌─┴─┐├──────────┤├──────────┤┌─┴─┐ ░ \n",
        "q_1: ┤ Rx(π*w0) ├┤ Rz(π*w2) ├┤ X ├┤ Rx(π*w3) ├┤ Rz(π*w5) ├┤ X ├─░─\n",
        "     └──────────┘└──────────┘└───┘└──────────┘└──────────┘└───┘ ░ \n",
        "```"
      ],
      "metadata": {
        "id": "hJQ43x_SptjJ"
      },
      "id": "hJQ43x_SptjJ"
    },
    {
      "cell_type": "code",
      "source": [
        "from IPython.display import clear_output\n",
        "!pip3 install qiskit\n",
        "!pip3 install qiskit-machine-learning\n",
        "!pip install pylatexenc\n",
        "clear_output()"
      ],
      "metadata": {
        "id": "wy0zVPy5rtoO"
      },
      "id": "wy0zVPy5rtoO",
      "execution_count": null,
      "outputs": []
    },
    {
      "cell_type": "markdown",
      "source": [
        "## Making regular QNN circuit"
      ],
      "metadata": {
        "id": "uqqlT-Nw4Ypr"
      },
      "id": "uqqlT-Nw4Ypr"
    },
    {
      "cell_type": "code",
      "execution_count": null,
      "id": "fbd48128",
      "metadata": {
        "id": "fbd48128"
      },
      "outputs": [],
      "source": [
        "%matplotlib inline\n",
        "from qiskit import QuantumCircuit\n",
        "from qiskit.algorithms.optimizers import COBYLA, L_BFGS_B\n",
        "from qiskit.circuit import Parameter\n",
        "from qiskit.circuit.library import RealAmplitudes, ZZFeatureMap\n",
        "from qiskit.utils import algorithm_globals\n",
        "\n",
        "from qiskit_machine_learning.algorithms.classifiers import NeuralNetworkClassifier, VQC\n",
        "from qiskit_machine_learning.algorithms.regressors import NeuralNetworkRegressor, VQR\n",
        "from qiskit_machine_learning.neural_networks import SamplerQNN, EstimatorQNN\n",
        "\n",
        "algorithm_globals.random_seed = 42\n",
        "\n",
        "\n",
        "inputs=[Parameter(f\"x{i}\") for i in range(2)]\n",
        "weights_no_sym = [Parameter(f\"w{i}\") for i in range(8)]\n",
        "weights_sym = [Parameter(f\"w{i}\") for i in range(6)]\n",
        "\n",
        "def get_feature_map():\n",
        "    qc=QuantumCircuit(2)\n",
        "    qc.rx(np.pi*inputs[0],0)\n",
        "    qc.rx(np.pi*inputs[1],1)\n",
        "    qc.barrier()\n",
        "    return qc\n",
        "\n",
        "def ansatz_sym():\n",
        "    qc=QuantumCircuit(2)\n",
        "    qc.rx(np.pi*weights_sym[0],0)\n",
        "    qc.rx(np.pi*weights_sym[0],1)\n",
        "    qc.rz(np.pi*weights_sym[1],0)\n",
        "    qc.rz(np.pi*weights_sym[2],1)\n",
        "    qc.cx(0,1)\n",
        "    qc.rx(np.pi*weights_sym[3],0)\n",
        "    qc.rx(np.pi*weights_sym[3],1)\n",
        "    qc.rz(np.pi*weights_sym[4],0)\n",
        "    qc.rz(np.pi*weights_sym[5],1)\n",
        "    qc.cx(0,1)\n",
        "    qc.barrier()\n",
        "    return qc\n",
        "\n",
        "def ansatz_no_sym():\n",
        "    qc=QuantumCircuit(2)\n",
        "    qc.rx(np.pi*weights_no_sym[0],0)\n",
        "    qc.rx(np.pi*weights_no_sym[1],1)\n",
        "    qc.rz(np.pi*weights_no_sym[2],0)\n",
        "    qc.rz(np.pi*weights_no_sym[3],1)\n",
        "    qc.cx(0,1)\n",
        "    qc.rx(np.pi*weights_no_sym[4],0)\n",
        "    qc.rx(np.pi*weights_no_sym[5],1)\n",
        "    qc.rz(np.pi*weights_no_sym[6],0)\n",
        "    qc.rz(np.pi*weights_no_sym[7],1)\n",
        "    qc.cx(0,1)\n",
        "    qc.barrier()\n",
        "    return qc"
      ]
    },
    {
      "cell_type": "code",
      "execution_count": null,
      "id": "bb13c43b",
      "metadata": {
        "colab": {
          "base_uri": "https://localhost:8080/"
        },
        "id": "bb13c43b",
        "outputId": "a5795c45-dae1-4e67-cca0-9560f2c3d7d5"
      },
      "outputs": [
        {
          "output_type": "execute_result",
          "data": {
            "text/plain": [
              "<qiskit.circuit.instructionset.InstructionSet at 0x7f56ed187130>"
            ]
          },
          "metadata": {},
          "execution_count": 20
        }
      ],
      "source": [
        "qc_no_sym = QuantumCircuit(2)\n",
        "qc_no_sym.append(get_feature_map(), range(2))\n",
        "qc_no_sym.append(ansatz_no_sym(), range(2))"
      ]
    },
    {
      "cell_type": "code",
      "execution_count": null,
      "id": "6874a09a",
      "metadata": {
        "id": "6874a09a"
      },
      "outputs": [],
      "source": [
        "def parity(x):\n",
        "    return \"{:b}\".format(x).count(\"1\") % 2\n",
        "\n",
        "output_shape = 2 "
      ]
    },
    {
      "cell_type": "code",
      "execution_count": null,
      "id": "95bc1e67",
      "metadata": {
        "id": "95bc1e67"
      },
      "outputs": [],
      "source": [
        "sampler_qnn_no_sym = SamplerQNN(\n",
        "    circuit=qc_no_sym,\n",
        "    input_params=inputs,\n",
        "    weight_params=weights_no_sym,\n",
        "    interpret=parity,\n",
        "    output_shape=output_shape,\n",
        ")"
      ]
    },
    {
      "cell_type": "code",
      "execution_count": null,
      "id": "40cf6e36",
      "metadata": {
        "id": "40cf6e36"
      },
      "outputs": [],
      "source": [
        "# callback function that draws a live plot when the .fit() method is called\n",
        "def callback_graph(weights, obj_func_eval):\n",
        "    clear_output(wait=True)\n",
        "    objective_func_vals.append(obj_func_eval)\n",
        "    plt.title(\"Objective function value against iteration\")\n",
        "    plt.xlabel(\"Iteration\")\n",
        "    plt.ylabel(\"Objective function value\")\n",
        "    plt.plot(range(len(objective_func_vals)), objective_func_vals)\n",
        "    plt.show()"
      ]
    },
    {
      "cell_type": "code",
      "execution_count": null,
      "id": "4d7a0154",
      "metadata": {
        "id": "4d7a0154"
      },
      "outputs": [],
      "source": [
        "# construct classifier\n",
        "sampler_classifier = NeuralNetworkClassifier(\n",
        "    neural_network=sampler_qnn_no_sym, optimizer=COBYLA(maxiter=30), callback=callback_graph\n",
        ")"
      ]
    },
    {
      "cell_type": "code",
      "execution_count": null,
      "id": "adbd5909",
      "metadata": {
        "id": "adbd5909"
      },
      "outputs": [],
      "source": [
        "from sklearn.model_selection import train_test_split\n",
        "\n",
        "X_train, X_test, y_train, y_test = train_test_split(X, y, test_size=0.33, random_state=42)"
      ]
    },
    {
      "cell_type": "markdown",
      "source": [
        "## Training the regular QNN"
      ],
      "metadata": {
        "id": "b1bZUqCG2jTy"
      },
      "id": "b1bZUqCG2jTy"
    },
    {
      "cell_type": "code",
      "execution_count": null,
      "id": "4560cfa9",
      "metadata": {
        "colab": {
          "base_uri": "https://localhost:8080/",
          "height": 332
        },
        "id": "4560cfa9",
        "outputId": "a7333684-3484-4e75-d9e1-075b6119b8f5"
      },
      "outputs": [
        {
          "output_type": "display_data",
          "data": {
            "text/plain": [
              "<Figure size 432x288 with 1 Axes>"
            ],
            "image/png": "[encoded data removed]"
          },
          "metadata": {
            "needs_background": "light"
          }
        },
        {
          "output_type": "stream",
          "name": "stdout",
          "text": [
            "Train accuracy: 0.6537313432835821\n",
            "Test accuracy : 0.6666666666666666\n"
          ]
        }
      ],
      "source": [
        "# create empty array for callback to store evaluations of the objective function\n",
        "objective_func_vals = []\n",
        "\n",
        "# fit classifier to data\n",
        "sampler_classifier.fit(X_train, y_train)\n",
        "\n",
        "# score classifier\n",
        "print(f\"Train accuracy: {sampler_classifier.score(X_train, y_train)}\")\n",
        "print(f\"Test accuracy : {sampler_classifier.score(X_test, y_test)}\")"
      ]
    },
    {
      "cell_type": "code",
      "execution_count": null,
      "id": "dbb7a3a7",
      "metadata": {
        "id": "dbb7a3a7"
      },
      "outputs": [],
      "source": [
        "objective_func_vals_no_sym=np.array(objective_func_vals)"
      ]
    },
    {
      "cell_type": "markdown",
      "source": [
        "## Making equivariant QNN circuit"
      ],
      "metadata": {
        "id": "xdyGkrn34Q1m"
      },
      "id": "xdyGkrn34Q1m"
    },
    {
      "cell_type": "code",
      "execution_count": null,
      "id": "deac34cc",
      "metadata": {
        "colab": {
          "base_uri": "https://localhost:8080/"
        },
        "id": "deac34cc",
        "outputId": "e597ac45-4405-4471-d37c-bc36d0a8f56a"
      },
      "outputs": [
        {
          "output_type": "execute_result",
          "data": {
            "text/plain": [
              "<qiskit.circuit.instructionset.InstructionSet at 0x7f56ed4f7d60>"
            ]
          },
          "metadata": {},
          "execution_count": 28
        }
      ],
      "source": [
        "qc_sym = QuantumCircuit(2)\n",
        "qc_sym.append(get_feature_map(), range(2))\n",
        "qc_sym.append(ansatz_sym(), range(2))"
      ]
    },
    {
      "cell_type": "code",
      "execution_count": null,
      "id": "e5945810",
      "metadata": {
        "id": "e5945810"
      },
      "outputs": [],
      "source": [
        "sampler_qnn_sym = SamplerQNN(\n",
        "    circuit=qc_sym,\n",
        "    input_params=inputs,\n",
        "    weight_params=weights_sym,\n",
        "    interpret=parity,\n",
        "    output_shape=output_shape,\n",
        ")"
      ]
    },
    {
      "cell_type": "code",
      "execution_count": null,
      "id": "1b220149",
      "metadata": {
        "id": "1b220149"
      },
      "outputs": [],
      "source": [
        "# construct classifier\n",
        "sampler_classifier = NeuralNetworkClassifier(\n",
        "    neural_network=sampler_qnn_sym, optimizer=COBYLA(maxiter=30), callback=callback_graph\n",
        ")"
      ]
    },
    {
      "cell_type": "markdown",
      "source": [
        "## Training the equivariant QNN"
      ],
      "metadata": {
        "id": "7sgagvm42WZi"
      },
      "id": "7sgagvm42WZi"
    },
    {
      "cell_type": "code",
      "execution_count": null,
      "id": "0a1b4d5f",
      "metadata": {
        "colab": {
          "base_uri": "https://localhost:8080/",
          "height": 332
        },
        "id": "0a1b4d5f",
        "outputId": "7d4759d9-bda8-4a2d-fac0-1b4676cd54fb"
      },
      "outputs": [
        {
          "output_type": "display_data",
          "data": {
            "text/plain": [
              "<Figure size 432x288 with 1 Axes>"
            ],
            "image/png": "[encoded data removed]"
          },
          "metadata": {
            "needs_background": "light"
          }
        },
        {
          "output_type": "stream",
          "name": "stdout",
          "text": [
            "Train accuracy: 0.808955223880597\n",
            "Test accuracy : 0.7696969696969697\n"
          ]
        }
      ],
      "source": [
        "# create empty array for callback to store evaluations of the objective function\n",
        "objective_func_vals = []\n",
        "\n",
        "# fit classifier to data\n",
        "sampler_classifier.fit(X_train, y_train)\n",
        "\n",
        "# score classifier\n",
        "print(f\"Train accuracy: {sampler_classifier.score(X_train, y_train)}\")\n",
        "print(f\"Test accuracy : {sampler_classifier.score(X_test, y_test)}\")"
      ]
    },
    {
      "cell_type": "code",
      "execution_count": null,
      "id": "cc93268d",
      "metadata": {
        "colab": {
          "base_uri": "https://localhost:8080/",
          "height": 295
        },
        "id": "cc93268d",
        "outputId": "7e17f10f-232c-4506-d3d8-1d4048af3ed7"
      },
      "outputs": [
        {
          "output_type": "display_data",
          "data": {
            "text/plain": [
              "<Figure size 432x288 with 1 Axes>"
            ],
            "image/png": "[encoded data removed]"
          },
          "metadata": {
            "needs_background": "light"
          }
        }
      ],
      "source": [
        "objective_func_vals_sym=objective_func_vals\n",
        "\n",
        "plt.title(\"Objective function value against iteration\")\n",
        "plt.xlabel(\"Iteration\")\n",
        "plt.ylabel(\"Objective function value\")\n",
        "plt.plot(range(len(objective_func_vals_no_sym)), objective_func_vals_no_sym,'b',label=\"without symmetrization\")\n",
        "plt.plot(range(len(objective_func_vals_sym)), objective_func_vals_sym,'g',label=\"with symmetrization\")\n",
        "plt.legend()\n",
        "plt.show()\n"
      ]
    },
    {
      "cell_type": "markdown",
      "source": [
        "# Conclusion\n",
        "Based on the results obtained, we can conclude that the $Z_2 \\times Z_2$ equivariant quantum neural network implementation outperformed the regular QNN implementation for the generated dataset. \n",
        "\n",
        "This is not surprising, as equivariant quantum neural networks are designed to explicitly take into account the symmetries present in the data, thereby improving their ability to learn patterns and make accurate predictions.\n",
        "\n",
        "Furthermore, the success of the Z_2 x Z_2 equivariant quantum neural network suggests that equivariant quantum neural networks could be a promising approach for solving classification problems in other datasets with symmetry groups. Overall, these results demonstrate the potential of equivariant quantum neural networks as a powerful tool for solving a wide range of problems in quantum machine learning."
      ],
      "metadata": {
        "id": "tFTM_Ylo4kY3"
      },
      "id": "tFTM_Ylo4kY3"
    },
    {
      "cell_type": "markdown",
      "source": [
        "# Refrences\n",
        "\n",
        "\n",
        "1.   Johannes Jakob Meyer, Marian Mularski, Elies Gil-Fuster, Antonio Anna Mele, Francesco Arzani, Alissa Wilms, Jens Eisert: “Exploiting symmetry in variational quantum machine learning”, 2022, PRX Quantum 4, 010328 (2023); <a href='http://arxiv.org/abs/2205.06217'>arXiv:2205.06217</a>. DOI: <a href='https://dx.doi.org/10.1103/PRXQuantum.4.010328'>10.1103/PRXQuantum.4.010328</a>.\n",
        "\n"
      ],
      "metadata": {
        "id": "8GC6yh9g8Tx4"
      },
      "id": "8GC6yh9g8Tx4"
    }
  ],
  "metadata": {
    "kernelspec": {
      "display_name": "Python 3 (ipykernel)",
      "language": "python",
      "name": "python3"
    },
    "language_info": {
      "codemirror_mode": {
        "name": "ipython",
        "version": 3
      },
      "file_extension": ".py",
      "mimetype": "text/x-python",
      "name": "python",
      "nbconvert_exporter": "python",
      "pygments_lexer": "ipython3",
      "version": "3.10.6"
    },
    "colab": {
      "provenance": [],
      "include_colab_link": true
    }
  },
  "nbformat": 4,
  "nbformat_minor": 5
}