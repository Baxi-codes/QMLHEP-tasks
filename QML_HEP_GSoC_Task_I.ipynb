{
  "cells": [
    {
      "cell_type": "markdown",
      "metadata": {
        "id": "view-in-github",
        "colab_type": "text"
      },
      "source": [
        "<a href=\"https://colab.research.google.com/github/Baxi-codes/QMLHEP-tasks/blob/main/QML_HEP_GSoC_Task_I.ipynb\" target=\"_parent\"><img src=\"https://colab.research.google.com/assets/colab-badge.svg\" alt=\"Open In Colab\"/></a>"
      ]
    },
    {
      "cell_type": "markdown",
      "id": "3652f4d4",
      "metadata": {
        "id": "3652f4d4"
      },
      "source": [
        "# QML-HEP GSoC 2023 Task-I  Quantum Computing Part\n",
        "\n",
        "This is the jupyter notebook containing task I for QMLHEP GSOC 2023"
      ]
    },
    {
      "cell_type": "markdown",
      "source": [
        "### Implementing the simple quantum operation with Cirq"
      ],
      "metadata": {
        "id": "n9FXeWjG6REk"
      },
      "id": "n9FXeWjG6REk"
    },
    {
      "cell_type": "code",
      "source": [
        "!pip install cirq\n",
        "\n",
        "from IPython.display import clear_output\n",
        "clear_output()"
      ],
      "metadata": {
        "id": "3hGBaAXM5gMg"
      },
      "id": "3hGBaAXM5gMg",
      "execution_count": null,
      "outputs": []
    },
    {
      "cell_type": "code",
      "execution_count": null,
      "id": "1b10fc9c",
      "metadata": {
        "id": "1b10fc9c"
      },
      "outputs": [],
      "source": [
        "import cirq\n",
        "import numpy as np"
      ]
    },
    {
      "cell_type": "code",
      "execution_count": null,
      "id": "1532e016",
      "metadata": {
        "colab": {
          "base_uri": "https://localhost:8080/"
        },
        "id": "1532e016",
        "outputId": "ab1037dc-1412-4614-c4e2-cc3724c3ccde"
      },
      "outputs": [
        {
          "output_type": "stream",
          "name": "stdout",
          "text": [
            "0: ───H───@──────────────────────×───\n",
            "          │                      │\n",
            "1: ───H───X───@──────────────────┼───\n",
            "              │                  │\n",
            "2: ───H───────X───@───Rx(0.5π)───┼───\n",
            "                  │              │\n",
            "3: ───H───────────X───@──────────┼───\n",
            "                      │          │\n",
            "4: ───H───────────────X──────────×───\n"
          ]
        }
      ],
      "source": [
        "circuit = cirq.Circuit()\n",
        "qubits = cirq.LineQubit.range(5)\n",
        "\n",
        "for qubit in qubits:\n",
        "    circuit.append(cirq.H(qubit))\n",
        "\n",
        "circuit.append(cirq.CNOT(qubits[0], qubits[1]))\n",
        "circuit.append(cirq.CNOT(qubits[1], qubits[2]))\n",
        "circuit.append(cirq.CNOT(qubits[2], qubits[3]))\n",
        "circuit.append(cirq.CNOT(qubits[3], qubits[4]))\n",
        "\n",
        "circuit.append(cirq.SWAP(qubits[0], qubits[4]))\n",
        "circuit.append(cirq.rx(np.pi / 2).on(qubits[2]))\n",
        "\n",
        "print(circuit)"
      ]
    },
    {
      "cell_type": "markdown",
      "id": "4508499a",
      "metadata": {
        "id": "4508499a"
      },
      "source": [
        "### Implementing the second circuit with qiskit"
      ]
    },
    {
      "cell_type": "code",
      "execution_count": null,
      "id": "c9b4ea97",
      "metadata": {
        "id": "c9b4ea97"
      },
      "outputs": [],
      "source": [
        "!pip3 install qiskit\n",
        "clear_output()\n",
        "import qiskit"
      ]
    },
    {
      "cell_type": "code",
      "execution_count": null,
      "id": "3ff7f77d",
      "metadata": {
        "scrolled": true,
        "colab": {
          "base_uri": "https://localhost:8080/"
        },
        "id": "3ff7f77d",
        "outputId": "f22e33a5-541c-4f72-d308-49db85928ead"
      },
      "outputs": [
        {
          "output_type": "stream",
          "name": "stdout",
          "text": [
            "                    ┌───┐    ░ \n",
            "        qubit_0: ───┤ H ├────░─\n",
            "                 ┌──┴───┴──┐ ░ \n",
            "        qubit_1: ┤ Rx(π/3) ├─░─\n",
            "                 └──┬───┬──┘ ░ \n",
            "        qubit_2: ───┤ H ├────░─\n",
            "                    ├───┤    ░ \n",
            "        qubit_3: ───┤ H ├────░─\n",
            "                    └───┘    ░ \n",
            "        qubit_4: ────────────░─\n",
            "                             ░ \n",
            "        qubit_5: ────────────░─\n",
            "                             ░ \n",
            "classical_reg: 2/══════════════\n",
            "                               \n"
          ]
        }
      ],
      "source": [
        "qubits = qiskit.QuantumRegister(6,'qubit')\n",
        "classical_reg = qiskit.ClassicalRegister(2,'classical_reg')\n",
        "circuit = qiskit.QuantumCircuit(qubits,classical_reg)\n",
        "\n",
        "circuit.h(qubits[0])\n",
        "circuit.rx(np.pi / 3, qubits[1])\n",
        "circuit.h(qubits[2])\n",
        "circuit.h(qubits[3])\n",
        "circuit.barrier()\n",
        "\n",
        "print(circuit)"
      ]
    },
    {
      "cell_type": "code",
      "execution_count": null,
      "id": "be428541",
      "metadata": {
        "colab": {
          "base_uri": "https://localhost:8080/",
          "height": 248
        },
        "id": "be428541",
        "outputId": "fcc5ef5f-a0e5-44e9-9309-91e41d91ea78"
      },
      "outputs": [
        {
          "output_type": "execute_result",
          "data": {
            "text/plain": [
              "                    ┌───┐    ░                  ░                 \n",
              "        qubit_0: ───┤ H ├────░───────X──────────░─────────────────\n",
              "                 ┌──┴───┴──┐ ░       │          ░                 \n",
              "        qubit_1: ┤ Rx(π/3) ├─░───────X──────────░─────────────────\n",
              "                 └──┬───┬──┘ ░       │          ░                 \n",
              "        qubit_2: ───┤ H ├────░───────┼──────────░───────X─────────\n",
              "                    ├───┤    ░       │          ░       │         \n",
              "        qubit_3: ───┤ H ├────░───────┼──────────░───────X─────────\n",
              "                    └───┘    ░ ┌───┐ │ ┌───┐┌─┐ ░       │         \n",
              "        qubit_4: ────────────░─┤ H ├─■─┤ H ├┤M├─░───────┼─────────\n",
              "                             ░ └───┘   └───┘└╥┘ ░ ┌───┐ │ ┌───┐┌─┐\n",
              "        qubit_5: ────────────░───────────────╫──░─┤ H ├─■─┤ H ├┤M├\n",
              "                             ░               ║  ░ └───┘   └───┘└╥┘\n",
              "classical_reg: 2/════════════════════════════╩══════════════════╩═\n",
              "                                             0                  1 "
            ],
            "text/html": [
              "<pre style=\"word-wrap: normal;white-space: pre;background: #fff0;line-height: 1.1;font-family: &quot;Courier New&quot;,Courier,monospace\">                    ┌───┐    ░                  ░                 \n",
              "        qubit_0: ───┤ H ├────░───────X──────────░─────────────────\n",
              "                 ┌──┴───┴──┐ ░       │          ░                 \n",
              "        qubit_1: ┤ Rx(π/3) ├─░───────X──────────░─────────────────\n",
              "                 └──┬───┬──┘ ░       │          ░                 \n",
              "        qubit_2: ───┤ H ├────░───────┼──────────░───────X─────────\n",
              "                    ├───┤    ░       │          ░       │         \n",
              "        qubit_3: ───┤ H ├────░───────┼──────────░───────X─────────\n",
              "                    └───┘    ░ ┌───┐ │ ┌───┐┌─┐ ░       │         \n",
              "        qubit_4: ────────────░─┤ H ├─■─┤ H ├┤M├─░───────┼─────────\n",
              "                             ░ └───┘   └───┘└╥┘ ░ ┌───┐ │ ┌───┐┌─┐\n",
              "        qubit_5: ────────────░───────────────╫──░─┤ H ├─■─┤ H ├┤M├\n",
              "                             ░               ║  ░ └───┘   └───┘└╥┘\n",
              "classical_reg: 2/════════════════════════════╩══════════════════╩═\n",
              "                                             0                  1 </pre>"
            ]
          },
          "metadata": {},
          "execution_count": 7
        }
      ],
      "source": [
        "circuit.h(qubits[4])\n",
        "circuit.cswap(qubits[4],qubits[0],qubits[1])\n",
        "circuit.h(qubits[4])\n",
        "circuit.measure(qubits[4],classical_reg[0])\n",
        "\n",
        "circuit.barrier()\n",
        "\n",
        "circuit.h(qubits[5])\n",
        "circuit.cswap(qubits[5],qubits[2],qubits[3])\n",
        "circuit.h(qubits[5])\n",
        "circuit.measure(qubits[5],classical_reg[1])\n",
        "\n",
        "circuit.draw()"
      ]
    },
    {
      "cell_type": "code",
      "execution_count": null,
      "id": "5a36ac83",
      "metadata": {
        "colab": {
          "base_uri": "https://localhost:8080/",
          "height": 331
        },
        "id": "5a36ac83",
        "outputId": "6f487a84-934b-4350-a89d-0898f5b2bc63"
      },
      "outputs": [
        {
          "output_type": "execute_result",
          "data": {
            "text/plain": [
              "<Figure size 504x360 with 1 Axes>"
            ],
            "image/png": "[encoded data removed]"
          },
          "metadata": {},
          "execution_count": 8
        }
      ],
      "source": [
        "simulator = qiskit.Aer.get_backend('aer_simulator')\n",
        "circ = qiskit.transpile(circuit, simulator)\n",
        "\n",
        "shots=2048\n",
        "\n",
        "result = simulator.run(circ,shots=shots).result()\n",
        "counts = result.get_counts(circ)\n",
        "qiskit.visualization.plot_histogram(counts)"
      ]
    },
    {
      "cell_type": "code",
      "execution_count": null,
      "id": "bfbe69ba",
      "metadata": {
        "colab": {
          "base_uri": "https://localhost:8080/"
        },
        "id": "bfbe69ba",
        "outputId": "b85d7174-d795-48f4-8b86-9b754c3ce91b"
      },
      "outputs": [
        {
          "output_type": "stream",
          "name": "stdout",
          "text": [
            "Squared Inner Product of qubits 1 and 2 is 0.4755859375\n",
            "Squared Inner Product of qubits 3 and 4 is 1.0\n"
          ]
        }
      ],
      "source": [
        "b1=0\n",
        "b2=0\n",
        "\n",
        "if '01' in counts:\n",
        "    b1 += counts['01']\n",
        "if '10' in counts:\n",
        "    b2 += counts['10']\n",
        "if '11' in counts:\n",
        "    b1 += counts['11']\n",
        "    b2 += counts['11']\n",
        "\n",
        "s1 = 1-(2/shots)*(b1)\n",
        "s2 = 1-(2/shots)*(b2)\n",
        "\n",
        "print(f\"Squared Inner Product of qubits 1 and 2 is {s1}\")\n",
        "print(f\"Squared Inner Product of qubits 3 and 4 is {s2}\")"
      ]
    }
  ],
  "metadata": {
    "kernelspec": {
      "display_name": "Python 3 (ipykernel)",
      "language": "python",
      "name": "python3"
    },
    "language_info": {
      "codemirror_mode": {
        "name": "ipython",
        "version": 3
      },
      "file_extension": ".py",
      "mimetype": "text/x-python",
      "name": "python",
      "nbconvert_exporter": "python",
      "pygments_lexer": "ipython3",
      "version": "3.10.6"
    },
    "colab": {
      "provenance": [],
      "include_colab_link": true
    }
  },
  "nbformat": 4,
  "nbformat_minor": 5
}