{
  "cells": [
    {
      "cell_type": "markdown",
      "metadata": {
        "id": "view-in-github",
        "colab_type": "text"
      },
      "source": [
        "<a href=\"https://colab.research.google.com/github/Baxi-codes/QMLHEP-tasks/blob/main/QML_HEP_GSoC_Task_III.ipynb\" target=\"_parent\"><img src=\"https://colab.research.google.com/assets/colab-badge.svg\" alt=\"Open In Colab\"/></a>"
      ]
    },
    {
      "cell_type": "markdown",
      "id": "3652f4d4",
      "metadata": {
        "id": "3652f4d4"
      },
      "source": [
        "# QML-HEP GSoC 2023 Task-III Open Task\n",
        "\n",
        "This is the jupyter notebook containing task I for QMLHEP GSOC 2023"
      ]
    },
    {
      "cell_type": "markdown",
      "source": [
        "Quantum computing at its core is exploiting the properties of nature like superposition and entanglement and using it for efficient computation of a large number of states. The quantum computers run on qubits or quantum bits are typically represented by two-level quantum systems, such as the polarization of a photon or the spin of an electron. In a quantum computer. The development of quantum computing has given birth to many revolutionary algorithms like grover's search algorithm, quantum phase estimation, quantum fourier transform, superdense coding, etc.\n",
        "\n",
        "Ever since the discovery of Shor's algorithm, the popularity of quantum computing is growing day-by-day. So much so that it has become a buzzword for even the average citizen unrelated to physics or computer science. Everyone wants to talk about how quantum computers will break the security of classical ecosystems.\n",
        "\n",
        "In recent times, despite the quantum computers growing in quantum volume every year, many people tend to claim that it will be useful only in very distant future, as the gap to make them run practical algorithms in feasible amount of time is very huge at the moment. Accoring to [1], for an average user wanting to run their program on a quantum computer (without fair queue), it takes about half a day of waiting time in IBM Quantum for it to finally run on a real physical quantum hardware. \n",
        "\n",
        "However, it is worth noting that the field of quantum computers is relatively very new, a most of the major developments in the field have been made in the past 30 years. Even as of now, quantum computing is growing by a doubly exponential rate according to Hartmut Neven[2]. The term \"doubly exponential\" refers to the rate at which the number of qubits and the quality of those qubits are improving. As more qubits are added to a quantum computer, the computational power of the system grows exponentially. Additionally, as the quality of the qubits improves (i.e., they become more stable and less prone to errors), the computational power of the system also grows exponentially. When these two factors are combined, the rate of growth becomes doubly exponential.\n",
        "\n",
        "As the quantum volume will increase, and the requirements for quantum resources in algorithms decrease with advancements in research, the day won't be far when we will be using quantum solutions to tackle practical problems fast and effectively.\n",
        "\n",
        "## Quantum algorithms & software that I am familiar with\n",
        "\n",
        "I have been working with quantum computing since the beginning of summer last year. I was working on a paper on quantum cryptography with one of my professors, in process of which I learnt about quantum computing basics and all algorithms starting with Deutsh algorithm all the way to Shor's. I also learnt the major quantum cryptography protocols and their implementations. I primarily worked on qiskit and IBM Quantum platform for implementing my algorithms. The paper was then abandoned as the professor left the university.\n",
        "\n",
        "After a few months I started working on another paper that focused on quantum machine learning(qml). Here, I learnt about many of the QML algorithms like Quantum Gradient Descent, Variational Quantum Circuits, Quantum Neural Networks(QNN). Due to my knowledge of QC from previous paper and prior knowledge of ML, my learning curve was much easier than the previous one.\n",
        "\n",
        "## References\n",
        "\n",
        "<ol>\n",
        "<li>\n",
        "Gokul Subramanian Ravi, Kaitlin N. Smith, Pranav Gokhale, Frederic T. Chong: “Quantum Computing in the Cloud: Analyzing job and machine characteristics”, 2022; <a href='http://arxiv.org/abs/2203.13121'>arXiv:2203.13121</a>.\n",
        "</li>\n",
        "<li>Hartnett, K., &amp; Quanta Magazine moderates comments to&nbsp;facilitate an informed, substantive. (2020, June 5). A new law to describe Quantum Computing's rise? Quanta Magazine <a href=\"https://www.quantamagazine.org/does-nevens-law-describe-quantum-computings-rise-20190618/\">https://www.quantamagazine.org/does-nevens-law-describe-quantum-computings-rise-20190618/</a> </li>\n",
        "</ol>"
      ],
      "metadata": {
        "id": "xV-5izBWME-i"
      },
      "id": "xV-5izBWME-i"
    }
  ],
  "metadata": {
    "kernelspec": {
      "display_name": "Python 3 (ipykernel)",
      "language": "python",
      "name": "python3"
    },
    "language_info": {
      "codemirror_mode": {
        "name": "ipython",
        "version": 3
      },
      "file_extension": ".py",
      "mimetype": "text/x-python",
      "name": "python",
      "nbconvert_exporter": "python",
      "pygments_lexer": "ipython3",
      "version": "3.10.6"
    },
    "colab": {
      "provenance": [],
      "include_colab_link": true
    }
  },
  "nbformat": 4,
  "nbformat_minor": 5
}